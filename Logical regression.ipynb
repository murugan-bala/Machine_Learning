{
 "cells": [
  {
   "cell_type": "code",
   "execution_count": 2,
   "metadata": {},
   "outputs": [
    {
     "name": "stderr",
     "output_type": "stream",
     "text": [
      "/home/sands/anaconda3/lib/python3.6/site-packages/sklearn/linear_model/logistic.py:433: FutureWarning: Default solver will be changed to 'lbfgs' in 0.22. Specify a solver to silence this warning.\n",
      "  FutureWarning)\n"
     ]
    },
    {
     "name": "stdout",
     "output_type": "stream",
     "text": [
      "AUC: 0.8984290392202545\n",
      "small coeff : {} ['worst' 'awful' 'waste' 'boring' 'disappointment' 'poor' 'disappointing'\n",
      " 'worse' 'poorly' 'the worst']\n",
      "large coeff : {} ['excellent' 'perfect' 'wonderful' 'enjoyable' 'surprisingly' 'amazing'\n",
      " 'superb' 'believable' 'today' 'great']\n",
      "Enter the sentence for testing: the movie is good \" so /t with \"good\"\n",
      "[1]\n"
     ]
    }
   ],
   "source": [
    "import pandas as pd\n",
    "import numpy as np\n",
    "from sklearn.model_selection import train_test_split\n",
    "from sklearn.feature_extraction.text import CountVectorizer\n",
    "from sklearn.linear_model import LogisticRegression\n",
    "from sklearn.metrics import roc_auc_score\n",
    "\n",
    "df = pd.read_csv(\"labeledTrainData.tsv\", header=0, delimiter=\"\\t\", quoting=3)\n",
    "df.dropna(inplace=True)\n",
    "df[\"Postive rated\"]=np.where(df['sentiment']>0,1,0)\n",
    "\n",
    "#feature_names=['review']\n",
    "#X=df[feature_names]\n",
    "\n",
    "X_train, X_test, y_train, y_test = train_test_split(df['review'],df['Postive rated'],random_state=0)\n",
    "\n",
    "vect=CountVectorizer(min_df=5,ngram_range=(1,2)).fit(X_train)\n",
    "\n",
    "X_train_vetorised=vect.transform(X_train)\n",
    "\n",
    "model=LogisticRegression()\n",
    "\n",
    "model.fit(X_train_vetorised,y_train)\n",
    "\n",
    "predictions=model.predict(vect.transform(X_test))\n",
    "\n",
    "print (\"AUC:\",roc_auc_score(y_test,predictions))\n",
    "\n",
    "testing=input(\"Enter the sentence for testing: \")\n",
    "\n",
    "print(model.predict(vect.transform([testing])))\n",
    "\n",
    "\n",
    "\n",
    "\n",
    "\n",
    "\n",
    "\n",
    "\n",
    "feature_name=np.array(vect.get_feature_names())\n",
    "\n",
    "sort_coeff=model.coef_[0].argsort()\n",
    "\n",
    "print (\"small coeff : {}\",format(feature_name[sort_coeff[:10]]))\n",
    "\n",
    "print (\"large coeff : {}\",format(feature_name[sort_coeff[:-11:-1]]))\n",
    "\n",
    "testing=input(\"Enter the sentence for testing: \")\n",
    "\n",
    "print(model.predict(vect.transform([testing])))\n"
   ]
  },
  {
   "cell_type": "code",
   "execution_count": null,
   "metadata": {},
   "outputs": [],
   "source": []
  },
  {
   "cell_type": "code",
   "execution_count": null,
   "metadata": {},
   "outputs": [],
   "source": []
  },
  {
   "cell_type": "code",
   "execution_count": null,
   "metadata": {},
   "outputs": [],
   "source": []
  },
  {
   "cell_type": "code",
   "execution_count": null,
   "metadata": {},
   "outputs": [],
   "source": []
  },
  {
   "cell_type": "code",
   "execution_count": null,
   "metadata": {},
   "outputs": [],
   "source": []
  }
 ],
 "metadata": {
  "kernelspec": {
   "display_name": "Python 3",
   "language": "python",
   "name": "python3"
  },
  "language_info": {
   "codemirror_mode": {
    "name": "ipython",
    "version": 3
   },
   "file_extension": ".py",
   "mimetype": "text/x-python",
   "name": "python",
   "nbconvert_exporter": "python",
   "pygments_lexer": "ipython3",
   "version": "3.6.7"
  }
 },
 "nbformat": 4,
 "nbformat_minor": 2
}
